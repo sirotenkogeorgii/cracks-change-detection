{
 "cells": [
  {
   "cell_type": "code",
   "execution_count": 9,
   "metadata": {},
   "outputs": [
    {
     "ename": "ModuleNotFoundError",
     "evalue": "No module named 'image_generation'",
     "output_type": "error",
     "traceback": [
      "\u001b[0;31m---------------------------------------------------------------------------\u001b[0m",
      "\u001b[0;31mModuleNotFoundError\u001b[0m                       Traceback (most recent call last)",
      "Cell \u001b[0;32mIn[9], line 1\u001b[0m\n\u001b[0;32m----> 1\u001b[0m \u001b[39mfrom\u001b[39;00m \u001b[39mimage_generation\u001b[39;00m\u001b[39m.\u001b[39;00m\u001b[39mcrack_sampler\u001b[39;00m \u001b[39mimport\u001b[39;00m CrackSampler\n",
      "\u001b[0;31mModuleNotFoundError\u001b[0m: No module named 'image_generation'"
     ]
    }
   ],
   "source": [
    "from image_generation.crack_sampler import CrackSampler"
   ]
  },
  {
   "cell_type": "code",
   "execution_count": null,
   "metadata": {},
   "outputs": [],
   "source": [
    "y_transletion_file = \"./example_data/tables/y_transletion.csv\"\n",
    "x_transletion_file = \"./example_data/tables/x_transletion.csv\"\n",
    "rotation_file = \"./example_data/tables/rotation.csv\"\n",
    "scale_file = \"./example_data/tables/scale.csv\"\n",
    "\n",
    "crack_sampler = CrackSampler(y_transletion_file, x_transletion_file, rotation_file, scale_file)"
   ]
  },
  {
   "cell_type": "code",
   "execution_count": null,
   "metadata": {},
   "outputs": [
    {
     "data": {
      "text/plain": [
       "[(0.0015899432556467784, 0.00555780477681223, 0.0018096542714325396, 0.99),\n",
       " (0.0021329154122792546,\n",
       "  0.0036515802472006386,\n",
       "  0.0035395887284465004,\n",
       "  0.9900074616972)]"
      ]
     },
     "execution_count": 3,
     "metadata": {},
     "output_type": "execute_result"
    }
   ],
   "source": [
    "fluence = crack_sampler.sample_fluence()\n",
    "cracks = crack_sampler.sample_cracks(cracks_num=2, fluence=fluence)\n",
    "cracks"
   ]
  }
 ],
 "metadata": {
  "kernelspec": {
   "display_name": "Python 3.11.0 64-bit",
   "language": "python",
   "name": "python3"
  },
  "language_info": {
   "codemirror_mode": {
    "name": "ipython",
    "version": 3
   },
   "file_extension": ".py",
   "mimetype": "text/x-python",
   "name": "python",
   "nbconvert_exporter": "python",
   "pygments_lexer": "ipython3",
   "version": "3.11.0"
  },
  "orig_nbformat": 4,
  "vscode": {
   "interpreter": {
    "hash": "aee8b7b246df8f9039afb4144a1f6fd8d2ca17a180786b69acc140d282b71a49"
   }
  }
 },
 "nbformat": 4,
 "nbformat_minor": 2
}
