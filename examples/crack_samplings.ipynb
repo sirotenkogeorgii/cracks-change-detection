{
 "cells": [
  {
   "cell_type": "code",
   "execution_count": 4,
   "metadata": {},
   "outputs": [],
   "source": [
    "import sys\n",
    "parent_dir = '/'.join(str(globals()['_dh'][0]).split('/')[:-1])\n",
    "sys.path.append(f\"{parent_dir}/image_generation\")\n",
    "\n",
    "from crack_sampler import CrackSampler"
   ]
  },
  {
   "cell_type": "code",
   "execution_count": 5,
   "metadata": {},
   "outputs": [],
   "source": [
    "y_transletion_file = \"./example_data/tables/y_transletion.csv\"\n",
    "x_transletion_file = \"./example_data/tables/x_transletion.csv\"\n",
    "rotation_file = \"./example_data/tables/rotation.csv\"\n",
    "scale_file = \"./example_data/tables/scale.csv\"\n",
    "\n",
    "crack_sampler = CrackSampler(y_transletion_file, x_transletion_file, rotation_file, scale_file)"
   ]
  },
  {
   "cell_type": "code",
   "execution_count": 6,
   "metadata": {},
   "outputs": [
    {
     "data": {
      "text/plain": [
       "[(-0.0006504915923295526,\n",
       "  0.0038903217427404394,\n",
       "  0.0011176199356600501,\n",
       "  0.9976766225623103),\n",
       " (0.0015652906216092524,\n",
       "  0.003951240678065458,\n",
       "  0.00424005994777457,\n",
       "  0.9900000000004179)]"
      ]
     },
     "execution_count": 6,
     "metadata": {},
     "output_type": "execute_result"
    }
   ],
   "source": [
    "fluence = crack_sampler.sample_fluence()\n",
    "cracks = crack_sampler.sample_cracks(cracks_num=2, fluence=fluence)\n",
    "cracks"
   ]
  }
 ],
 "metadata": {
  "kernelspec": {
   "display_name": "Python 3.11.0 64-bit",
   "language": "python",
   "name": "python3"
  },
  "language_info": {
   "codemirror_mode": {
    "name": "ipython",
    "version": 3
   },
   "file_extension": ".py",
   "mimetype": "text/x-python",
   "name": "python",
   "nbconvert_exporter": "python",
   "pygments_lexer": "ipython3",
   "version": "3.11.0"
  },
  "orig_nbformat": 4,
  "vscode": {
   "interpreter": {
    "hash": "aee8b7b246df8f9039afb4144a1f6fd8d2ca17a180786b69acc140d282b71a49"
   }
  }
 },
 "nbformat": 4,
 "nbformat_minor": 2
}
